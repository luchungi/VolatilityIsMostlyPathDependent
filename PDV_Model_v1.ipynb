{
 "cells": [
  {
   "cell_type": "code",
   "execution_count": 1,
   "metadata": {},
   "outputs": [],
   "source": [
    "import numpy as np\n",
    "import pandas as pd\n",
    "import matplotlib.pyplot as plt\n",
    "import seaborn as sns\n",
    "from scipy.optimize import least_squares\n",
    "import yfinance as yf"
   ]
  },
  {
   "cell_type": "markdown",
   "metadata": {},
   "source": [
    "# Download data"
   ]
  },
  {
   "cell_type": "code",
   "execution_count": 2,
   "metadata": {},
   "outputs": [],
   "source": [
    "load_from = pd.to_datetime('1995-01-01')  # Need at least 4 years prior to the first training day\n",
    "train_start_date = pd.to_datetime('2000-01-01')\n",
    "test_start_date = pd.to_datetime('2019-01-01')\n",
    "test_end_date = pd.to_datetime('2022-05-15')"
   ]
  },
  {
   "cell_type": "code",
   "execution_count": 3,
   "metadata": {},
   "outputs": [],
   "source": [
    "# # Load data on SPX and VIX\n",
    "# spx_data = yf.Ticker(\"^GSPC\").history(start=load_from, end=test_end_date)\n",
    "# vix_data = yf.Ticker(\"^VIX\").history(start=load_from, end=test_end_date)"
   ]
  },
  {
   "cell_type": "code",
   "execution_count": 4,
   "metadata": {},
   "outputs": [],
   "source": [
    "# spx_data.to_csv('spx_data.csv')\n",
    "# vix_data.to_csv('vix_data.csv')"
   ]
  },
  {
   "cell_type": "code",
   "execution_count": 5,
   "metadata": {},
   "outputs": [],
   "source": [
    "spx_data = pd.read_csv('spx_data.csv', index_col=0, parse_dates=[0])\n",
    "vix_data = pd.read_csv('vix_data.csv', index_col=0, parse_dates=[0])"
   ]
  },
  {
   "cell_type": "code",
   "execution_count": 6,
   "metadata": {},
   "outputs": [],
   "source": [
    "spx_data.index = pd.to_datetime(spx_data.index.date)\n",
    "vix_data.index = pd.to_datetime(vix_data.index.date)"
   ]
  },
  {
   "cell_type": "code",
   "execution_count": 7,
   "metadata": {},
   "outputs": [
    {
     "data": {
      "text/html": [
       "<div>\n",
       "<style scoped>\n",
       "    .dataframe tbody tr th:only-of-type {\n",
       "        vertical-align: middle;\n",
       "    }\n",
       "\n",
       "    .dataframe tbody tr th {\n",
       "        vertical-align: top;\n",
       "    }\n",
       "\n",
       "    .dataframe thead th {\n",
       "        text-align: right;\n",
       "    }\n",
       "</style>\n",
       "<table border=\"1\" class=\"dataframe\">\n",
       "  <thead>\n",
       "    <tr style=\"text-align: right;\">\n",
       "      <th></th>\n",
       "      <th>r1</th>\n",
       "      <th>r2</th>\n",
       "    </tr>\n",
       "  </thead>\n",
       "  <tbody>\n",
       "    <tr>\n",
       "      <th>2000-01-03</th>\n",
       "      <td>NaN</td>\n",
       "      <td>NaN</td>\n",
       "    </tr>\n",
       "    <tr>\n",
       "      <th>2000-01-04</th>\n",
       "      <td>-0.038345</td>\n",
       "      <td>1.470314e-03</td>\n",
       "    </tr>\n",
       "    <tr>\n",
       "      <th>2000-01-05</th>\n",
       "      <td>0.001922</td>\n",
       "      <td>3.694787e-06</td>\n",
       "    </tr>\n",
       "    <tr>\n",
       "      <th>2000-01-06</th>\n",
       "      <td>0.000956</td>\n",
       "      <td>9.133206e-07</td>\n",
       "    </tr>\n",
       "    <tr>\n",
       "      <th>2000-01-07</th>\n",
       "      <td>0.027090</td>\n",
       "      <td>7.338897e-04</td>\n",
       "    </tr>\n",
       "    <tr>\n",
       "      <th>...</th>\n",
       "      <td>...</td>\n",
       "      <td>...</td>\n",
       "    </tr>\n",
       "    <tr>\n",
       "      <th>2018-12-24</th>\n",
       "      <td>-0.027112</td>\n",
       "      <td>7.350743e-04</td>\n",
       "    </tr>\n",
       "    <tr>\n",
       "      <th>2018-12-26</th>\n",
       "      <td>0.049594</td>\n",
       "      <td>2.459539e-03</td>\n",
       "    </tr>\n",
       "    <tr>\n",
       "      <th>2018-12-27</th>\n",
       "      <td>0.008563</td>\n",
       "      <td>7.331950e-05</td>\n",
       "    </tr>\n",
       "    <tr>\n",
       "      <th>2018-12-28</th>\n",
       "      <td>-0.001242</td>\n",
       "      <td>1.541527e-06</td>\n",
       "    </tr>\n",
       "    <tr>\n",
       "      <th>2018-12-31</th>\n",
       "      <td>0.008492</td>\n",
       "      <td>7.212229e-05</td>\n",
       "    </tr>\n",
       "  </tbody>\n",
       "</table>\n",
       "<p>4779 rows × 2 columns</p>\n",
       "</div>"
      ],
      "text/plain": [
       "                  r1            r2\n",
       "2000-01-03       NaN           NaN\n",
       "2000-01-04 -0.038345  1.470314e-03\n",
       "2000-01-05  0.001922  3.694787e-06\n",
       "2000-01-06  0.000956  9.133206e-07\n",
       "2000-01-07  0.027090  7.338897e-04\n",
       "...              ...           ...\n",
       "2018-12-24 -0.027112  7.350743e-04\n",
       "2018-12-26  0.049594  2.459539e-03\n",
       "2018-12-27  0.008563  7.331950e-05\n",
       "2018-12-28 -0.001242  1.541527e-06\n",
       "2018-12-31  0.008492  7.212229e-05\n",
       "\n",
       "[4779 rows x 2 columns]"
      ]
     },
     "execution_count": 7,
     "metadata": {},
     "output_type": "execute_result"
    }
   ],
   "source": [
    "# create new df that calculates the daily returns and squared daily returns of SPX\n",
    "spx = pd.DataFrame(columns=['r1', 'r2'])\n",
    "spx['r1'] = spx_data.loc[train_start_date:test_start_date-pd.Timedelta(days=1), 'Close'].pct_change()\n",
    "spx['r2'] = spx['r1'] ** 2\n",
    "spx"
   ]
  },
  {
   "cell_type": "code",
   "execution_count": 8,
   "metadata": {},
   "outputs": [
    {
     "data": {
      "text/html": [
       "<div>\n",
       "<style scoped>\n",
       "    .dataframe tbody tr th:only-of-type {\n",
       "        vertical-align: middle;\n",
       "    }\n",
       "\n",
       "    .dataframe tbody tr th {\n",
       "        vertical-align: top;\n",
       "    }\n",
       "\n",
       "    .dataframe thead th {\n",
       "        text-align: right;\n",
       "    }\n",
       "</style>\n",
       "<table border=\"1\" class=\"dataframe\">\n",
       "  <thead>\n",
       "    <tr style=\"text-align: right;\">\n",
       "      <th></th>\n",
       "      <th>vix</th>\n",
       "    </tr>\n",
       "  </thead>\n",
       "  <tbody>\n",
       "    <tr>\n",
       "      <th>2000-01-03</th>\n",
       "      <td>0.2421</td>\n",
       "    </tr>\n",
       "    <tr>\n",
       "      <th>2000-01-04</th>\n",
       "      <td>0.2701</td>\n",
       "    </tr>\n",
       "    <tr>\n",
       "      <th>2000-01-05</th>\n",
       "      <td>0.2641</td>\n",
       "    </tr>\n",
       "    <tr>\n",
       "      <th>2000-01-06</th>\n",
       "      <td>0.2573</td>\n",
       "    </tr>\n",
       "    <tr>\n",
       "      <th>2000-01-07</th>\n",
       "      <td>0.2172</td>\n",
       "    </tr>\n",
       "    <tr>\n",
       "      <th>...</th>\n",
       "      <td>...</td>\n",
       "    </tr>\n",
       "    <tr>\n",
       "      <th>2018-12-24</th>\n",
       "      <td>0.3607</td>\n",
       "    </tr>\n",
       "    <tr>\n",
       "      <th>2018-12-26</th>\n",
       "      <td>0.3041</td>\n",
       "    </tr>\n",
       "    <tr>\n",
       "      <th>2018-12-27</th>\n",
       "      <td>0.2996</td>\n",
       "    </tr>\n",
       "    <tr>\n",
       "      <th>2018-12-28</th>\n",
       "      <td>0.2834</td>\n",
       "    </tr>\n",
       "    <tr>\n",
       "      <th>2018-12-31</th>\n",
       "      <td>0.2542</td>\n",
       "    </tr>\n",
       "  </tbody>\n",
       "</table>\n",
       "<p>4779 rows × 1 columns</p>\n",
       "</div>"
      ],
      "text/plain": [
       "               vix\n",
       "2000-01-03  0.2421\n",
       "2000-01-04  0.2701\n",
       "2000-01-05  0.2641\n",
       "2000-01-06  0.2573\n",
       "2000-01-07  0.2172\n",
       "...            ...\n",
       "2018-12-24  0.3607\n",
       "2018-12-26  0.3041\n",
       "2018-12-27  0.2996\n",
       "2018-12-28  0.2834\n",
       "2018-12-31  0.2542\n",
       "\n",
       "[4779 rows x 1 columns]"
      ]
     },
     "execution_count": 8,
     "metadata": {},
     "output_type": "execute_result"
    }
   ],
   "source": [
    "vix = vix_data.loc[train_start_date:test_start_date-pd.Timedelta(days=1), ['Close']] / 100\n",
    "vix.columns = ['vix']\n",
    "vix"
   ]
  },
  {
   "cell_type": "code",
   "execution_count": 9,
   "metadata": {},
   "outputs": [
    {
     "data": {
      "text/html": [
       "<div>\n",
       "<style scoped>\n",
       "    .dataframe tbody tr th:only-of-type {\n",
       "        vertical-align: middle;\n",
       "    }\n",
       "\n",
       "    .dataframe tbody tr th {\n",
       "        vertical-align: top;\n",
       "    }\n",
       "\n",
       "    .dataframe thead th {\n",
       "        text-align: right;\n",
       "    }\n",
       "</style>\n",
       "<table border=\"1\" class=\"dataframe\">\n",
       "  <thead>\n",
       "    <tr style=\"text-align: right;\">\n",
       "      <th></th>\n",
       "      <th>r1</th>\n",
       "      <th>r2</th>\n",
       "      <th>vix</th>\n",
       "    </tr>\n",
       "  </thead>\n",
       "  <tbody>\n",
       "    <tr>\n",
       "      <th>2000-01-04</th>\n",
       "      <td>-0.038345</td>\n",
       "      <td>1.470314e-03</td>\n",
       "      <td>0.2701</td>\n",
       "    </tr>\n",
       "    <tr>\n",
       "      <th>2000-01-05</th>\n",
       "      <td>0.001922</td>\n",
       "      <td>3.694787e-06</td>\n",
       "      <td>0.2641</td>\n",
       "    </tr>\n",
       "    <tr>\n",
       "      <th>2000-01-06</th>\n",
       "      <td>0.000956</td>\n",
       "      <td>9.133206e-07</td>\n",
       "      <td>0.2573</td>\n",
       "    </tr>\n",
       "    <tr>\n",
       "      <th>2000-01-07</th>\n",
       "      <td>0.027090</td>\n",
       "      <td>7.338897e-04</td>\n",
       "      <td>0.2172</td>\n",
       "    </tr>\n",
       "    <tr>\n",
       "      <th>2000-01-10</th>\n",
       "      <td>0.011190</td>\n",
       "      <td>1.252154e-04</td>\n",
       "      <td>0.2171</td>\n",
       "    </tr>\n",
       "    <tr>\n",
       "      <th>...</th>\n",
       "      <td>...</td>\n",
       "      <td>...</td>\n",
       "      <td>...</td>\n",
       "    </tr>\n",
       "    <tr>\n",
       "      <th>2018-12-24</th>\n",
       "      <td>-0.027112</td>\n",
       "      <td>7.350743e-04</td>\n",
       "      <td>0.3607</td>\n",
       "    </tr>\n",
       "    <tr>\n",
       "      <th>2018-12-26</th>\n",
       "      <td>0.049594</td>\n",
       "      <td>2.459539e-03</td>\n",
       "      <td>0.3041</td>\n",
       "    </tr>\n",
       "    <tr>\n",
       "      <th>2018-12-27</th>\n",
       "      <td>0.008563</td>\n",
       "      <td>7.331950e-05</td>\n",
       "      <td>0.2996</td>\n",
       "    </tr>\n",
       "    <tr>\n",
       "      <th>2018-12-28</th>\n",
       "      <td>-0.001242</td>\n",
       "      <td>1.541527e-06</td>\n",
       "      <td>0.2834</td>\n",
       "    </tr>\n",
       "    <tr>\n",
       "      <th>2018-12-31</th>\n",
       "      <td>0.008492</td>\n",
       "      <td>7.212229e-05</td>\n",
       "      <td>0.2542</td>\n",
       "    </tr>\n",
       "  </tbody>\n",
       "</table>\n",
       "<p>4778 rows × 3 columns</p>\n",
       "</div>"
      ],
      "text/plain": [
       "                  r1            r2     vix\n",
       "2000-01-04 -0.038345  1.470314e-03  0.2701\n",
       "2000-01-05  0.001922  3.694787e-06  0.2641\n",
       "2000-01-06  0.000956  9.133206e-07  0.2573\n",
       "2000-01-07  0.027090  7.338897e-04  0.2172\n",
       "2000-01-10  0.011190  1.252154e-04  0.2171\n",
       "...              ...           ...     ...\n",
       "2018-12-24 -0.027112  7.350743e-04  0.3607\n",
       "2018-12-26  0.049594  2.459539e-03  0.3041\n",
       "2018-12-27  0.008563  7.331950e-05  0.2996\n",
       "2018-12-28 -0.001242  1.541527e-06  0.2834\n",
       "2018-12-31  0.008492  7.212229e-05  0.2542\n",
       "\n",
       "[4778 rows x 3 columns]"
      ]
     },
     "execution_count": 9,
     "metadata": {},
     "output_type": "execute_result"
    }
   ],
   "source": [
    "data = pd.concat([spx, vix], axis=1)\n",
    "data = data.dropna()\n",
    "data"
   ]
  },
  {
   "cell_type": "markdown",
   "metadata": {},
   "source": [
    "# High clarity implementation (low performance)"
   ]
  },
  {
   "cell_type": "code",
   "execution_count": 10,
   "metadata": {},
   "outputs": [],
   "source": [
    "def exp_kernel(t, λ, θ):\n",
    "    '''\n",
    "    Exponential kernel function\n",
    "    '''\n",
    "    return θ * λ * np.exp(-λ * t)\n",
    "\n",
    "def convex_combi_exp_kernel(t, λ1, λ2, θ):\n",
    "    '''\n",
    "    Convex combination of two exponential kernel functions\n",
    "    '''\n",
    "    return exp_kernel(t, λ1, 1-θ) + exp_kernel(t, λ2, θ)\n",
    "\n",
    "def R1(λ1, λ2, θ, df):\n",
    "    '''\n",
    "    Calculate R1 which is the simple return weighted by convex combination of two exponential kernel functions\n",
    "    '''\n",
    "    dt = (df.index[-1] - df.index).days / 365\n",
    "    return np.sum(df['r1'].values * convex_combi_exp_kernel(dt, λ1, λ2, θ))\n",
    "\n",
    "def R2(λ1, λ2, θ, df):\n",
    "    '''\n",
    "    Calculate R2 which is the squared return weighted by convex combination of two exponential kernel functions\n",
    "    '''\n",
    "    dt = (df.index[-1] - df.index).days / 365\n",
    "    return np.sqrt(np.sum(df['r2'].values * convex_combi_exp_kernel(dt, λ1, λ2, θ)))\n",
    "\n",
    "def predict(β0, β1, β2, λ11, λ12, θ1, λ21, λ22, θ2, df):\n",
    "    '''\n",
    "    Predict the VIX level using the PDV model\n",
    "    '''\n",
    "    return β0 + β1 * R1(λ11, λ12, θ1, df[['r1']]) + β2 * R2(λ21, λ22, θ2, df[['r2']])\n",
    "\n",
    "def residual(x, df, n):\n",
    "    '''\n",
    "    Calculate the residuals of the PDV model\n",
    "    '''\n",
    "    β0, β1, β2, λ11, λ12, θ1, λ21, λ22, θ2 = x\n",
    "    residuals = []\n",
    "    for i in range(len(df) - n + 1):\n",
    "        y = df.iloc[i + n - 1]['vix'] - predict(β0, β1, β2, λ11, λ12, θ1, λ21, λ22, θ2, df.iloc[i:i + n - 1])\n",
    "        residuals.append(y)\n",
    "    return np.array(residuals)"
   ]
  },
  {
   "cell_type": "code",
   "execution_count": 11,
   "metadata": {},
   "outputs": [
    {
     "name": "stdout",
     "output_type": "stream",
     "text": [
      "   Iteration     Total nfev        Cost      Cost reduction    Step norm     Optimality   \n",
      "       0              1         1.0252e+00                                    7.53e+00    \n",
      "       1              3         9.9800e-01      2.72e-02       1.87e+00       1.57e+00    \n",
      "       2              4         9.9095e-01      7.04e-03       1.65e+00       1.01e+00    \n",
      "       3              5         9.8774e-01      3.22e-03       1.27e+01       2.22e+00    \n",
      "       4              6         9.8255e-01      5.19e-03       2.44e+00       5.39e-01    \n",
      "       5              7         9.8169e-01      8.59e-04       3.30e+00       7.29e-01    \n",
      "       6              8         9.8113e-01      5.63e-04       4.96e+00       4.64e-02    \n",
      "       7              9         9.8089e-01      2.34e-04       1.70e+00       1.45e-01    \n",
      "       8             10         9.8085e-01      4.35e-05       6.60e+00       3.37e-01    \n",
      "       9             11         9.8066e-01      1.85e-04       1.65e+00       2.04e-02    \n",
      "      10             12         9.8061e-01      5.04e-05       3.33e+00       6.76e-02    \n",
      "      11             13         9.8058e-01      3.12e-05       6.60e+00       1.86e-01    \n",
      "      12             14         9.8052e-01      6.36e-05       6.60e+00       8.96e-02    \n",
      "      13             15         9.8051e-01      6.80e-06       5.15e+00       4.46e-02    \n",
      "      14             17         9.8051e-01      4.15e-06       1.66e+00       5.69e-03    \n",
      "      15             19         9.8051e-01      2.89e-07       6.42e-01       7.93e-04    \n",
      "`ftol` termination condition is satisfied.\n",
      "Function evaluations 19, initial cost 1.0252e+00, final cost 9.8051e-01, first-order optimality 7.93e-04.\n"
     ]
    }
   ],
   "source": [
    "window = 1000\n",
    "lower_bound = [-np.inf, -np.inf, -np.inf, 0., 0., 0., 0., 0., 0.]\n",
    "upper_bound = [np.inf, np.inf, np.inf, np.inf, np.inf, 1., np.inf, np.inf, 1.]\n",
    "res = least_squares(residual, [0.054, -0.078, 0.82, 52.8, 3.79, 0.81, 17.3, 1.16, 0.43], args=(data, window), bounds=(lower_bound, upper_bound), verbose=2, ftol=1e-6)"
   ]
  },
  {
   "cell_type": "code",
   "execution_count": 12,
   "metadata": {},
   "outputs": [
    {
     "data": {
      "text/plain": [
       "dict_keys(['x', 'cost', 'fun', 'jac', 'grad', 'optimality', 'active_mask', 'nfev', 'njev', 'status', 'message', 'success'])"
      ]
     },
     "execution_count": 12,
     "metadata": {},
     "output_type": "execute_result"
    }
   ],
   "source": [
    "res.keys()"
   ]
  },
  {
   "cell_type": "code",
   "execution_count": 13,
   "metadata": {},
   "outputs": [
    {
     "data": {
      "text/plain": [
       "array([ 4.36694850e-02, -3.59595684e-02,  8.83069034e-01,  6.84085357e+01,\n",
       "        2.07704064e+01,  8.94804840e-01,  1.28287906e+01,  1.09884865e+00,\n",
       "        3.17378721e-01])"
      ]
     },
     "execution_count": 13,
     "metadata": {},
     "output_type": "execute_result"
    }
   ],
   "source": [
    "res.x"
   ]
  },
  {
   "cell_type": "code",
   "execution_count": 14,
   "metadata": {},
   "outputs": [
    {
     "name": "stdout",
     "output_type": "stream",
     "text": [
      "Mean: -0.0000, Min: -0.1470, Max: 0.2217, MAE: 0.0156, MSE: 0.0005, R^2: 0.9330\n"
     ]
    }
   ],
   "source": [
    "residuals = residual(res.x, data, window)\n",
    "total_sum_of_squares = np.sum((data.iloc[window-1:]['vix'] - np.mean(data.iloc[window-1:]['vix'])) ** 2)\n",
    "print('Mean: {:.4f}, Min: {:.4f}, Max: {:.4f}, MAE: {:.4f}, MSE: {:.4f}, R^2: {:.4f}'.format(\n",
    "    np.mean(residuals), np.min(residuals), np.max(residuals), np.mean(np.abs(residuals)), np.mean(residuals**2), (1-np.sum(residuals**2)/total_sum_of_squares)))"
   ]
  },
  {
   "cell_type": "markdown",
   "metadata": {},
   "source": [
    "# Vectorized implementation"
   ]
  },
  {
   "cell_type": "code",
   "execution_count": 15,
   "metadata": {},
   "outputs": [],
   "source": [
    "# implement the residual function for the PDV model but with vectorized calculation instead of for loop\n",
    "\n",
    "import torch # faster with torch than numpy\n",
    "\n",
    "def exp_kernel_vec(t, λ, θ):\n",
    "    '''\n",
    "    Exponential kernel function torch version\n",
    "    t is a tensor of shape (len(df) - n, n)\n",
    "    '''\n",
    "    return θ * λ * torch.exp(-λ * t)\n",
    "\n",
    "def convex_combi_exp_kernel_vec(t, λ1, λ2, θ):\n",
    "    '''\n",
    "    Convex combination of two exponential kernel functions torch version\n",
    "    t is a tensor of shape (len(df) - n, n)\n",
    "    '''\n",
    "    return exp_kernel_vec(t, λ1, 1-θ) + exp_kernel_vec(t, λ2, θ)\n",
    "\n",
    "def R1_vec(λ1, λ2, θ, return_tensor, t):\n",
    "    '''\n",
    "    Calculate R1 which is the simple return weighted by convex combination of two exponential kernel functions torch version\n",
    "    '''\n",
    "\n",
    "    return torch.sum(return_tensor * convex_combi_exp_kernel_vec(t, λ1, λ2, θ), dim=1)\n",
    "\n",
    "def R2_vec(λ1, λ2, θ, return_tensor, t):\n",
    "    '''\n",
    "    Calculate R2 which is the squared return weighted by convex combination of two exponential kernel functions torch version\n",
    "    '''\n",
    "    return torch.sqrt(torch.sum(return_tensor * convex_combi_exp_kernel_vec(t, λ1, λ2, θ), dim=1))\n",
    "\n",
    "def predict_vec(β0, β1, β2, λ11, λ12, θ1, λ21, λ22, θ2, df, n):\n",
    "    '''\n",
    "    Predict the VIX level using the PDV model torch version\n",
    "    '''\n",
    "    array = df[['r1', 'r2', 'vix']].values\n",
    "\n",
    "    # create sliding window of size n for r1 and r2 with shape (len(df) - n + 1, n)\n",
    "    r1_sliding_window = torch.tensor(np.lib.stride_tricks.sliding_window_view(array[:, 0], n), dtype=torch.float64, requires_grad=False)\n",
    "    r2_sliding_window = torch.tensor(np.lib.stride_tricks.sliding_window_view(array[:, 1], n), dtype=torch.float64, requires_grad=False)\n",
    "\n",
    "    # calcualte time difference between prediction datetime and each row in the sliding window with shape (len(df) - n + 1, n)\n",
    "    dt = ((df.index[1:] - df.index[:-1]).days / 365).values\n",
    "    dt_sliding_window = np.lib.stride_tricks.sliding_window_view(dt, n-1)\n",
    "    dt_sliding_window = np.flip(dt_sliding_window, axis=1)\n",
    "    dt_sliding_window = np.cumsum(dt_sliding_window, axis=1)\n",
    "    dt_sliding_window = np.flip(dt_sliding_window, axis=1)\n",
    "    dt_sliding_window = np.concatenate((dt_sliding_window, np.zeros((dt_sliding_window.shape[0], 1))), axis=1)\n",
    "    t = torch.tensor(dt_sliding_window, dtype=torch.float64, requires_grad=False)\n",
    "\n",
    "    # print(r1_sliding_window.shape, r2_sliding_window.shape, t.shape)\n",
    "\n",
    "    return β0 + β1 * R1_vec(λ11, λ12, θ1, r1_sliding_window, t) + β2 * R2_vec(λ21, λ22, θ2, r2_sliding_window, t)\n",
    "\n",
    "def residual_vec(x, df, n):\n",
    "    '''\n",
    "    Calculate the residuals of the PDV model torch version\n",
    "    '''\n",
    "    β0, β1, β2, λ11, λ12, θ1, λ21, λ22, θ2 = x\n",
    "    y = df.iloc[n-1:]['vix'].values # shape (len(df) - n + 1,) = number of predictions\n",
    "    y_hat = predict_vec(β0, β1, β2, λ11, λ12, θ1, λ21, λ22, θ2, df, n)\n",
    "    return y - y_hat.numpy()"
   ]
  },
  {
   "cell_type": "code",
   "execution_count": 16,
   "metadata": {},
   "outputs": [
    {
     "name": "stdout",
     "output_type": "stream",
     "text": [
      "   Iteration     Total nfev        Cost      Cost reduction    Step norm     Optimality   \n",
      "       0              1         6.6286e-01                                    7.41e+00    \n",
      "       1              3         6.3430e-01      2.86e-02       1.42e+00       2.99e+00    \n",
      "       2              4         6.2139e-01      1.29e-02       1.42e+00       2.18e-01    \n",
      "       3              5         6.2010e-01      1.29e-03       9.51e+00       2.66e+00    \n",
      "       4              6         6.1401e-01      6.09e-03       2.85e+00       4.90e-01    \n",
      "       5              7         6.1313e-01      8.83e-04       5.69e+00       4.23e-01    \n",
      "       6              9         6.1275e-01      3.78e-04       2.85e+00       8.42e-02    \n",
      "       7             10         6.1261e-01      1.34e-04       5.69e+00       2.06e-01    \n",
      "       8             11         6.1250e-01      1.10e-04       5.69e+00       1.36e-01    \n",
      "       9             12         6.1248e-01      2.54e-05       4.90e+00       7.72e-02    \n",
      "      10             13         6.1247e-01      7.30e-06       1.72e+00       1.06e-02    \n",
      "      11             14         6.1247e-01      2.68e-07       1.17e+00       4.27e-03    \n",
      "`ftol` termination condition is satisfied.\n",
      "Function evaluations 14, initial cost 6.6286e-01, final cost 6.1247e-01, first-order optimality 4.27e-03.\n"
     ]
    }
   ],
   "source": [
    "window = 1000\n",
    "lower_bound = [-np.inf, -np.inf, -np.inf, 0., 0., 0., 0., 0., 0.]\n",
    "upper_bound = [np.inf, np.inf, np.inf, np.inf, np.inf, 1., np.inf, np.inf, 1.]\n",
    "res = least_squares(residual_vec, [0.054, -0.078, 0.82, 52.8, 3.79, 0.81, 17.3, 1.16, 0.43], args=(data, window), bounds=(lower_bound, upper_bound), verbose=2, ftol=1e-6)"
   ]
  },
  {
   "cell_type": "code",
   "execution_count": 17,
   "metadata": {},
   "outputs": [
    {
     "data": {
      "text/plain": [
       "array([ 4.35885953e-02, -4.12544816e-02,  8.85362887e-01,  6.55315948e+01,\n",
       "        1.83999483e+01,  8.37978808e-01,  1.25555836e+01,  1.11373321e+00,\n",
       "        3.26484201e-01])"
      ]
     },
     "execution_count": 17,
     "metadata": {},
     "output_type": "execute_result"
    }
   ],
   "source": [
    "res.x"
   ]
  },
  {
   "cell_type": "code",
   "execution_count": 18,
   "metadata": {},
   "outputs": [
    {
     "name": "stdout",
     "output_type": "stream",
     "text": [
      "   Iteration     Total nfev        Cost      Cost reduction    Step norm     Optimality   \n",
      "       0              1         1.3367e+01                                    2.60e+01    \n",
      "       1              2         4.2952e+00      9.07e+00       7.21e-01       1.36e+01    \n",
      "       2              4         2.8369e+00      1.46e+00       3.52e-01       2.40e+00    \n",
      "       3              5         2.4008e+00      4.36e-01       7.04e-01       5.14e+00    \n",
      "       4              6         1.9307e+00      4.70e-01       7.04e-01       1.87e+00    \n",
      "       5              7         1.6661e+00      2.65e-01       1.41e+00       5.65e+00    \n",
      "       6              8         1.3830e+00      2.83e-01       1.41e+00       2.24e+00    \n",
      "       7              9         1.2541e+00      1.29e-01       2.81e+00       7.11e+00    \n",
      "       8             10         1.0859e+00      1.68e-01       2.81e+00       2.42e+00    \n",
      "       9             11         9.4190e-01      1.44e-01       5.13e+00       7.84e+00    \n",
      "      10             12         6.7284e-01      2.69e-01       5.63e+00       2.85e+00    \n",
      "      11             13         6.2954e-01      4.33e-02       1.13e+01       2.75e+00    \n",
      "      12             14         6.1779e-01      1.17e-02       4.43e+00       7.62e-01    \n",
      "      13             15         6.1716e-01      6.32e-04       1.29e+00       2.47e-02    \n",
      "      14             17         6.1635e-01      8.08e-04       1.28e+00       5.02e-01    \n",
      "      15             18         6.1539e-01      9.68e-04       2.57e+00       3.56e-01    \n",
      "      16             19         6.1445e-01      9.34e-04       3.73e+00       1.95e-01    \n",
      "      17             20         6.1375e-01      6.98e-04       5.13e+00       3.10e-01    \n",
      "      18             21         6.1323e-01      5.23e-04       6.45e+00       4.74e-01    \n",
      "      19             22         6.1281e-01      4.18e-04       7.04e+00       4.02e-01    \n",
      "      20             23         6.1261e-01      2.07e-04       7.90e+00       3.23e-01    \n",
      "      21             24         6.1248e-01      1.25e-04       5.50e+00       9.01e-02    \n",
      "      22             25         6.1247e-01      8.23e-06       5.22e-02       1.96e-04    \n",
      "      23             26         6.1247e-01      1.67e-08       6.18e-03       2.82e-05    \n",
      "`ftol` termination condition is satisfied.\n",
      "Function evaluations 26, initial cost 1.3367e+01, final cost 6.1247e-01, first-order optimality 2.82e-05.\n"
     ]
    }
   ],
   "source": [
    "lower_bound = [-np.inf, -np.inf, -np.inf, 0., 0., 0., 0., 0., 0.]\n",
    "upper_bound = [np.inf, np.inf, np.inf, np.inf, np.inf, 1., np.inf, np.inf, 1.]\n",
    "res = least_squares(residual_vec, [0.1, -1.0, 1.0, 1.0, 1.0, 0.5, 1.0, 1.0, 0.5], args=(data, window), bounds=(lower_bound, upper_bound), verbose=2, ftol=1e-6)"
   ]
  },
  {
   "cell_type": "code",
   "execution_count": 19,
   "metadata": {},
   "outputs": [
    {
     "data": {
      "text/plain": [
       "array([ 4.35949667e-02, -4.12812011e-02,  8.85331051e-01,  1.83282080e+01,\n",
       "        6.50128185e+01,  1.64754191e-01,  1.25581726e+01,  1.11401299e+00,\n",
       "        3.26593119e-01])"
      ]
     },
     "execution_count": 19,
     "metadata": {},
     "output_type": "execute_result"
    }
   ],
   "source": [
    "res.x"
   ]
  },
  {
   "cell_type": "code",
   "execution_count": 20,
   "metadata": {},
   "outputs": [
    {
     "name": "stdout",
     "output_type": "stream",
     "text": [
      "Mean: 0.0000, Min: -0.1030, Max: 0.1349, MAE: 0.0129, MSE: 0.0003, R^2: 0.9582\n"
     ]
    }
   ],
   "source": [
    "residuals = residual_vec(res.x, data, window)\n",
    "total_sum_of_squares = np.sum((data.iloc[window-1:]['vix'] - np.mean(data.iloc[window-1:]['vix'])) ** 2)\n",
    "print('Mean: {:.4f}, Min: {:.4f}, Max: {:.4f}, MAE: {:.4f}, MSE: {:.4f}, R^2: {:.4f}'.format(\n",
    "    np.mean(residuals), np.min(residuals), np.max(residuals), np.mean(np.abs(residuals)), np.mean(residuals**2), (1-np.sum(residuals**2)/total_sum_of_squares)))"
   ]
  }
 ],
 "metadata": {
  "kernelspec": {
   "display_name": "ibkr",
   "language": "python",
   "name": "python3"
  },
  "language_info": {
   "codemirror_mode": {
    "name": "ipython",
    "version": 3
   },
   "file_extension": ".py",
   "mimetype": "text/x-python",
   "name": "python",
   "nbconvert_exporter": "python",
   "pygments_lexer": "ipython3",
   "version": "3.11.4"
  },
  "orig_nbformat": 4
 },
 "nbformat": 4,
 "nbformat_minor": 2
}
