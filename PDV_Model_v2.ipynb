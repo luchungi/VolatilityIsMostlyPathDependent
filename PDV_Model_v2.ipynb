{
 "cells": [
  {
   "cell_type": "code",
   "execution_count": 18,
   "metadata": {},
   "outputs": [],
   "source": [
    "import numpy as np\n",
    "import pandas as pd\n",
    "import matplotlib.pyplot as plt\n",
    "import seaborn as sns\n",
    "from scipy.optimize import least_squares\n",
    "import yfinance as yf\n",
    "import torch\n",
    "import torch.nn as nn\n",
    "from torch.utils.data import Dataset, DataLoader\n",
    "\n",
    "from model.PDV_4_factor import *\n",
    "from model.data import *"
   ]
  },
  {
   "cell_type": "markdown",
   "metadata": {},
   "source": [
    "# Download data"
   ]
  },
  {
   "cell_type": "code",
   "execution_count": 19,
   "metadata": {},
   "outputs": [],
   "source": [
    "load_from = pd.to_datetime('1995-01-01')  # Need at least 4 years prior to the first training day\n",
    "train_start_date = pd.to_datetime('1995-01-01')\n",
    "test_start_date = pd.to_datetime('2019-01-01')\n",
    "test_end_date = pd.to_datetime('2022-05-15')"
   ]
  },
  {
   "cell_type": "code",
   "execution_count": 20,
   "metadata": {},
   "outputs": [],
   "source": [
    "# # Load data on SPX and VIX\n",
    "# spx_data = yf.Ticker(\"^GSPC\").history(start=load_from, end=test_end_date)\n",
    "# vix_data = yf.Ticker(\"^VIX\").history(start=load_from, end=test_end_date)"
   ]
  },
  {
   "cell_type": "code",
   "execution_count": 21,
   "metadata": {},
   "outputs": [],
   "source": [
    "# spx_data.to_csv('spx_data.csv')\n",
    "# vix_data.to_csv('vix_data.csv')"
   ]
  },
  {
   "cell_type": "code",
   "execution_count": 22,
   "metadata": {},
   "outputs": [],
   "source": [
    "spx_data = pd.read_csv('spx_data.csv', index_col=0, parse_dates=[0])\n",
    "vix_data = pd.read_csv('vix_data.csv', index_col=0, parse_dates=[0])"
   ]
  },
  {
   "cell_type": "code",
   "execution_count": 23,
   "metadata": {},
   "outputs": [
    {
     "data": {
      "text/html": [
       "<div>\n",
       "<style scoped>\n",
       "    .dataframe tbody tr th:only-of-type {\n",
       "        vertical-align: middle;\n",
       "    }\n",
       "\n",
       "    .dataframe tbody tr th {\n",
       "        vertical-align: top;\n",
       "    }\n",
       "\n",
       "    .dataframe thead th {\n",
       "        text-align: right;\n",
       "    }\n",
       "</style>\n",
       "<table border=\"1\" class=\"dataframe\">\n",
       "  <thead>\n",
       "    <tr style=\"text-align: right;\">\n",
       "      <th></th>\n",
       "      <th>r1</th>\n",
       "      <th>r2</th>\n",
       "      <th>vix</th>\n",
       "    </tr>\n",
       "  </thead>\n",
       "  <tbody>\n",
       "    <tr>\n",
       "      <th>1995-01-04</th>\n",
       "      <td>0.003485</td>\n",
       "      <td>1.214534e-05</td>\n",
       "      <td>0.1353</td>\n",
       "    </tr>\n",
       "    <tr>\n",
       "      <th>1995-01-05</th>\n",
       "      <td>-0.000803</td>\n",
       "      <td>6.449659e-07</td>\n",
       "      <td>0.1350</td>\n",
       "    </tr>\n",
       "    <tr>\n",
       "      <th>1995-01-06</th>\n",
       "      <td>0.000739</td>\n",
       "      <td>5.454954e-07</td>\n",
       "      <td>0.1313</td>\n",
       "    </tr>\n",
       "    <tr>\n",
       "      <th>1995-01-09</th>\n",
       "      <td>0.000326</td>\n",
       "      <td>1.060104e-07</td>\n",
       "      <td>0.1333</td>\n",
       "    </tr>\n",
       "    <tr>\n",
       "      <th>1995-01-10</th>\n",
       "      <td>0.001845</td>\n",
       "      <td>3.402222e-06</td>\n",
       "      <td>0.1252</td>\n",
       "    </tr>\n",
       "    <tr>\n",
       "      <th>...</th>\n",
       "      <td>...</td>\n",
       "      <td>...</td>\n",
       "      <td>...</td>\n",
       "    </tr>\n",
       "    <tr>\n",
       "      <th>2018-12-24</th>\n",
       "      <td>-0.027112</td>\n",
       "      <td>7.350743e-04</td>\n",
       "      <td>0.3607</td>\n",
       "    </tr>\n",
       "    <tr>\n",
       "      <th>2018-12-26</th>\n",
       "      <td>0.049594</td>\n",
       "      <td>2.459539e-03</td>\n",
       "      <td>0.3041</td>\n",
       "    </tr>\n",
       "    <tr>\n",
       "      <th>2018-12-27</th>\n",
       "      <td>0.008563</td>\n",
       "      <td>7.331950e-05</td>\n",
       "      <td>0.2996</td>\n",
       "    </tr>\n",
       "    <tr>\n",
       "      <th>2018-12-28</th>\n",
       "      <td>-0.001242</td>\n",
       "      <td>1.541527e-06</td>\n",
       "      <td>0.2834</td>\n",
       "    </tr>\n",
       "    <tr>\n",
       "      <th>2018-12-31</th>\n",
       "      <td>0.008492</td>\n",
       "      <td>7.212229e-05</td>\n",
       "      <td>0.2542</td>\n",
       "    </tr>\n",
       "  </tbody>\n",
       "</table>\n",
       "<p>6041 rows × 3 columns</p>\n",
       "</div>"
      ],
      "text/plain": [
       "                  r1            r2     vix\n",
       "1995-01-04  0.003485  1.214534e-05  0.1353\n",
       "1995-01-05 -0.000803  6.449659e-07  0.1350\n",
       "1995-01-06  0.000739  5.454954e-07  0.1313\n",
       "1995-01-09  0.000326  1.060104e-07  0.1333\n",
       "1995-01-10  0.001845  3.402222e-06  0.1252\n",
       "...              ...           ...     ...\n",
       "2018-12-24 -0.027112  7.350743e-04  0.3607\n",
       "2018-12-26  0.049594  2.459539e-03  0.3041\n",
       "2018-12-27  0.008563  7.331950e-05  0.2996\n",
       "2018-12-28 -0.001242  1.541527e-06  0.2834\n",
       "2018-12-31  0.008492  7.212229e-05  0.2542\n",
       "\n",
       "[6041 rows x 3 columns]"
      ]
     },
     "execution_count": 23,
     "metadata": {},
     "output_type": "execute_result"
    }
   ],
   "source": [
    "data = create_df_from_yf(spx_data, vix_data, train_start_date, test_start_date)\n",
    "data"
   ]
  },
  {
   "cell_type": "code",
   "execution_count": 24,
   "metadata": {},
   "outputs": [],
   "source": [
    "window = 1000\n",
    "dataset = VIXDataset(data, window)\n",
    "dataloader = DataLoader(dataset, batch_size=64, shuffle=True)"
   ]
  },
  {
   "cell_type": "markdown",
   "metadata": {},
   "source": [
    "# Fitting"
   ]
  },
  {
   "cell_type": "markdown",
   "metadata": {},
   "source": [
    "## SGD"
   ]
  },
  {
   "cell_type": "code",
   "execution_count": 8,
   "metadata": {},
   "outputs": [
    {
     "name": "stdout",
     "output_type": "stream",
     "text": [
      "Epoch 0 Loss 0.0064992486157372025\n",
      "Epoch 1 Loss 0.005279520007817051\n",
      "Epoch 2 Loss 0.005158939030422251\n",
      "Epoch 3 Loss 0.005149896801861969\n",
      "Epoch 4 Loss 0.005087771349810535\n",
      "Epoch 5 Loss 0.00509605993210232\n",
      "Epoch 6 Loss 0.005030235028059422\n",
      "Epoch 7 Loss 0.005029990608933606\n",
      "Epoch 8 Loss 0.005017790790128557\n",
      "Epoch 9 Loss 0.004988691141781739\n",
      "Epoch 10 Loss 0.004981632880819372\n",
      "Epoch 11 Loss 0.004958978845278108\n",
      "Epoch 12 Loss 0.004947811771844384\n",
      "Epoch 13 Loss 0.0049440427771710515\n",
      "Epoch 14 Loss 0.004992261029414456\n",
      "Epoch 15 Loss 0.004953258886013793\n",
      "Epoch 16 Loss 0.004930074512369082\n",
      "Epoch 17 Loss 0.004902325573530567\n",
      "Epoch 18 Loss 0.004894067135439078\n",
      "Epoch 19 Loss 0.004905457571561483\n",
      "Epoch 20 Loss 0.0049232009981016196\n",
      "Epoch 21 Loss 0.004872846418602652\n",
      "Epoch 22 Loss 0.004914406468926729\n",
      "Epoch 23 Loss 0.004921352676457808\n",
      "Epoch 24 Loss 0.0048835745429077855\n",
      "Epoch 25 Loss 0.00489713891138193\n",
      "Epoch 26 Loss 0.004897205766196115\n",
      "Epoch 27 Loss 0.004930051700860451\n",
      "Epoch 00028: reducing learning rate of group 0 to 5.0000e-03.\n",
      "Epoch 28 Loss 0.004862583345509594\n",
      "Epoch 29 Loss 0.004863749529364743\n",
      "Epoch 30 Loss 0.0048757658452031356\n",
      "Epoch 31 Loss 0.004850745301316434\n",
      "Epoch 32 Loss 0.004854583417218697\n",
      "Epoch 33 Loss 0.004854325157932088\n",
      "Epoch 34 Loss 0.004851720012913022\n",
      "Epoch 35 Loss 0.004868359310858989\n",
      "Epoch 36 Loss 0.004848990854630365\n",
      "Epoch 37 Loss 0.004847061366455842\n",
      "Epoch 38 Loss 0.004858655769590147\n",
      "Epoch 39 Loss 0.004874785183162629\n",
      "Epoch 40 Loss 0.004871232641412865\n",
      "Epoch 41 Loss 0.004847608956131094\n",
      "Epoch 42 Loss 0.004882651493189078\n",
      "Epoch 43 Loss 0.004838849155562399\n",
      "Epoch 44 Loss 0.004858780528501242\n",
      "Epoch 45 Loss 0.0048532193553150645\n",
      "Epoch 46 Loss 0.004852027343468198\n",
      "Epoch 47 Loss 0.004866527022110133\n",
      "Epoch 48 Loss 0.004860081465301823\n",
      "Epoch 49 Loss 0.004876604589598277\n",
      "Epoch 00050: reducing learning rate of group 0 to 2.5000e-03.\n",
      "Epoch 50 Loss 0.004842631094440629\n",
      "Epoch 51 Loss 0.004839344153510807\n",
      "Epoch 52 Loss 0.004838658272748506\n",
      "Epoch 53 Loss 0.0048367281803932\n",
      "Epoch 54 Loss 0.004846529811149156\n",
      "Epoch 55 Loss 0.004845801110178987\n",
      "Epoch 56 Loss 0.0048634022374083345\n",
      "Epoch 57 Loss 0.004849623408333599\n",
      "Epoch 58 Loss 0.004838551101392677\n",
      "Epoch 59 Loss 0.004853219857816643\n",
      "Epoch 00060: reducing learning rate of group 0 to 1.2500e-03.\n",
      "Epoch 60 Loss 0.0048426294322066665\n",
      "Epoch 61 Loss 0.004857195847773854\n",
      "Epoch 62 Loss 0.004834325665820248\n",
      "Epoch 63 Loss 0.00482773581295734\n",
      "Epoch 64 Loss 0.004851889525410495\n",
      "Epoch 65 Loss 0.004845524631157706\n",
      "Epoch 66 Loss 0.004846104464929881\n",
      "Epoch 67 Loss 0.004833848389525768\n",
      "Epoch 68 Loss 0.004839898823890128\n",
      "Epoch 69 Loss 0.004836480563530062\n",
      "Epoch 00070: reducing learning rate of group 0 to 6.2500e-04.\n",
      "Epoch 70 Loss 0.004832841517828122\n",
      "Epoch 71 Loss 0.004844470161803161\n",
      "Epoch 72 Loss 0.004843954630549761\n",
      "Epoch 73 Loss 0.004847622809554392\n",
      "Epoch 74 Loss 0.0048465168757859285\n",
      "Epoch 75 Loss 0.004834115802888063\n",
      "Epoch 00076: reducing learning rate of group 0 to 3.1250e-04.\n",
      "Epoch 76 Loss 0.00483637518261241\n",
      "Epoch 77 Loss 0.0048292648604234\n",
      "Epoch 78 Loss 0.004836470074362204\n",
      "Epoch 79 Loss 0.004850262560869885\n",
      "Epoch 80 Loss 0.004850169941429285\n",
      "Epoch 81 Loss 0.004841713597290689\n",
      "Epoch 00082: reducing learning rate of group 0 to 1.5625e-04.\n",
      "Epoch 82 Loss 0.00483523986208005\n",
      "Epoch 83 Loss 0.004837681932811024\n",
      "Epoch 84 Loss 0.0048311590128637194\n",
      "Epoch 85 Loss 0.0048320116828891296\n",
      "Epoch 86 Loss 0.004836411492403926\n",
      "Epoch 87 Loss 0.004831507383503869\n",
      "Epoch 00088: reducing learning rate of group 0 to 7.8125e-05.\n",
      "Epoch 88 Loss 0.004834591767668158\n",
      "Epoch 89 Loss 0.004830079383063543\n",
      "Epoch 90 Loss 0.004833204483118238\n",
      "Epoch 91 Loss 0.004830556408844039\n",
      "Epoch 92 Loss 0.004843055600701253\n",
      "Epoch 93 Loss 0.004831254691522144\n",
      "Epoch 00094: reducing learning rate of group 0 to 3.9063e-05.\n",
      "Epoch 94 Loss 0.004828890579269279\n",
      "Epoch 95 Loss 0.004836186135918657\n",
      "Epoch 96 Loss 0.004840272431603715\n",
      "Epoch 97 Loss 0.004836980495130336\n",
      "Epoch 98 Loss 0.004835719006914127\n",
      "Epoch 99 Loss 0.004830341207016778\n",
      "Epoch 00100: reducing learning rate of group 0 to 1.9531e-05.\n"
     ]
    }
   ],
   "source": [
    "params = torch.tensor([0.1, -1.0, 1.0, 1.0, 1.0, 0.5, 1.0, 1.0, 0.5], requires_grad=True)\n",
    "optimizer = torch.optim.Adam([params], lr=0.01)\n",
    "scheduler = torch.optim.lr_scheduler.ReduceLROnPlateau(optimizer, patience=5, factor=0.5, verbose=True)\n",
    "\n",
    "for epoch in range(100):\n",
    "    losses = []\n",
    "    for x, y in dataloader:\n",
    "        preds = torch_predict(params, x)\n",
    "        loss = nn.MSELoss()(preds, y)\n",
    "        optimizer.zero_grad()\n",
    "        loss.backward()\n",
    "        optimizer.step()\n",
    "        losses.append(loss.item())\n",
    "    epoch_loss = np.mean(losses)\n",
    "    print(f'Epoch {epoch} Loss {epoch_loss}')\n",
    "    scheduler.step(epoch_loss)"
   ]
  },
  {
   "cell_type": "code",
   "execution_count": 9,
   "metadata": {},
   "outputs": [
    {
     "data": {
      "text/plain": [
       "tensor([ 0.2019, -3.6025,  2.0378,  0.3598,  0.3598,  0.5000,  0.8656,  0.8656,\n",
       "         0.5000], requires_grad=True)"
      ]
     },
     "execution_count": 9,
     "metadata": {},
     "output_type": "execute_result"
    }
   ],
   "source": [
    "params"
   ]
  },
  {
   "cell_type": "code",
   "execution_count": 10,
   "metadata": {},
   "outputs": [
    {
     "name": "stdout",
     "output_type": "stream",
     "text": [
      "Mean: -0.1725, Min: -1.0866, Max: 0.4134, MAE: 0.2444, MSE: 0.1084, R^2: -14.0806\n"
     ]
    }
   ],
   "source": [
    "residuals = residual(params.detach().numpy(), data, window)\n",
    "total_sum_of_squares = np.sum((data.iloc[window-1:]['vix'] - np.mean(data.iloc[window-1:]['vix'])) ** 2)\n",
    "print('Mean: {:.4f}, Min: {:.4f}, Max: {:.4f}, MAE: {:.4f}, MSE: {:.4f}, R^2: {:.4f}'.format(\n",
    "    np.mean(residuals), np.min(residuals), np.max(residuals), np.mean(np.abs(residuals)), np.mean(residuals**2), (1-np.sum(residuals**2)/total_sum_of_squares)))"
   ]
  },
  {
   "cell_type": "markdown",
   "metadata": {},
   "source": [
    "# Least squares"
   ]
  },
  {
   "cell_type": "code",
   "execution_count": 25,
   "metadata": {},
   "outputs": [
    {
     "name": "stdout",
     "output_type": "stream",
     "text": [
      "   Iteration     Total nfev        Cost      Cost reduction    Step norm     Optimality   \n",
      "       0              1         1.4223e+00                                    3.12e+01    \n",
      "       1              3         1.2623e+00      1.60e-01       2.28e+00       7.29e+00    \n",
      "       2              4         1.2134e+00      4.89e-02       2.14e+00       5.16e-01    \n",
      "       3              5         1.2113e+00      2.10e-03       4.82e+00       3.52e+00    \n",
      "       4              6         1.2048e+00      6.49e-03       1.07e+00       6.22e-03    \n",
      "       5              7         1.2043e+00      4.62e-04       2.16e+00       6.01e-02    \n",
      "       6              8         1.2039e+00      3.62e-04       4.27e+00       1.64e-01    \n",
      "       7              9         1.2038e+00      1.84e-04       8.54e+00       4.95e-01    \n",
      "       8             10         1.2035e+00      2.73e-04       5.61e+00       9.79e-02    \n",
      "       9             11         1.2035e+00      6.49e-06       1.70e-01       1.50e-04    \n",
      "      10             12         1.2035e+00      1.22e-08       9.06e-02       3.61e-05    \n",
      "`ftol` termination condition is satisfied.\n",
      "Function evaluations 12, initial cost 1.4223e+00, final cost 1.2035e+00, first-order optimality 3.61e-05.\n"
     ]
    }
   ],
   "source": [
    "lower_bound = [-np.inf, -np.inf, -np.inf, 0., 0., 0., 0., 0., 0.]\n",
    "upper_bound = [np.inf, np.inf, np.inf, np.inf, np.inf, 1., np.inf, np.inf, 1.]\n",
    "# initial_x = [0.1, -1.0, 1.0, 1.0, 1.0, 0.5, 1.0, 1.0, 0.5]\n",
    "initial_x = [0.054, -0.078, 0.82, 52.8, 3.79, 0.81, 17.3, 1.16, 0.43]\n",
    "res = least_squares(residual, initial_x, args=(data, 1000), bounds=(lower_bound, upper_bound), verbose=2, ftol=1e-6)"
   ]
  },
  {
   "cell_type": "code",
   "execution_count": 26,
   "metadata": {},
   "outputs": [
    {
     "data": {
      "text/plain": [
       "array([ 4.72705518e-02, -3.96356341e-02,  8.88380315e-01,  6.89070582e+01,\n",
       "        1.63197117e+01,  8.18621290e-01,  1.43688352e+01,  1.64608029e+00,\n",
       "        3.85947382e-01])"
      ]
     },
     "execution_count": 26,
     "metadata": {},
     "output_type": "execute_result"
    }
   ],
   "source": [
    "res.x"
   ]
  },
  {
   "cell_type": "code",
   "execution_count": 27,
   "metadata": {},
   "outputs": [
    {
     "name": "stdout",
     "output_type": "stream",
     "text": [
      "Mean: -0.0000, Min: -0.1118, Max: 0.1316, MAE: 0.0159, MSE: 0.0005, R^2: 0.9336\n"
     ]
    }
   ],
   "source": [
    "residuals = residual(res.x, data, window)\n",
    "total_sum_of_squares = np.sum((data.iloc[window-1:]['vix'] - np.mean(data.iloc[window-1:]['vix'])) ** 2)\n",
    "print('Mean: {:.4f}, Min: {:.4f}, Max: {:.4f}, MAE: {:.4f}, MSE: {:.4f}, R^2: {:.4f}'.format(\n",
    "    np.mean(residuals), np.min(residuals), np.max(residuals), np.mean(np.abs(residuals)), np.mean(residuals**2), (1-np.sum(residuals**2)/total_sum_of_squares)))"
   ]
  },
  {
   "cell_type": "markdown",
   "metadata": {},
   "source": [
    "# Predicting out of sample"
   ]
  },
  {
   "cell_type": "code",
   "execution_count": 28,
   "metadata": {},
   "outputs": [
    {
     "data": {
      "text/html": [
       "<div>\n",
       "<style scoped>\n",
       "    .dataframe tbody tr th:only-of-type {\n",
       "        vertical-align: middle;\n",
       "    }\n",
       "\n",
       "    .dataframe tbody tr th {\n",
       "        vertical-align: top;\n",
       "    }\n",
       "\n",
       "    .dataframe thead th {\n",
       "        text-align: right;\n",
       "    }\n",
       "</style>\n",
       "<table border=\"1\" class=\"dataframe\">\n",
       "  <thead>\n",
       "    <tr style=\"text-align: right;\">\n",
       "      <th></th>\n",
       "      <th>r1</th>\n",
       "      <th>r2</th>\n",
       "      <th>vix</th>\n",
       "    </tr>\n",
       "  </thead>\n",
       "  <tbody>\n",
       "    <tr>\n",
       "      <th>1995-01-04</th>\n",
       "      <td>0.003485</td>\n",
       "      <td>1.214534e-05</td>\n",
       "      <td>0.1353</td>\n",
       "    </tr>\n",
       "    <tr>\n",
       "      <th>1995-01-05</th>\n",
       "      <td>-0.000803</td>\n",
       "      <td>6.449659e-07</td>\n",
       "      <td>0.1350</td>\n",
       "    </tr>\n",
       "    <tr>\n",
       "      <th>1995-01-06</th>\n",
       "      <td>0.000739</td>\n",
       "      <td>5.454954e-07</td>\n",
       "      <td>0.1313</td>\n",
       "    </tr>\n",
       "    <tr>\n",
       "      <th>1995-01-09</th>\n",
       "      <td>0.000326</td>\n",
       "      <td>1.060104e-07</td>\n",
       "      <td>0.1333</td>\n",
       "    </tr>\n",
       "    <tr>\n",
       "      <th>1995-01-10</th>\n",
       "      <td>0.001845</td>\n",
       "      <td>3.402222e-06</td>\n",
       "      <td>0.1252</td>\n",
       "    </tr>\n",
       "    <tr>\n",
       "      <th>...</th>\n",
       "      <td>...</td>\n",
       "      <td>...</td>\n",
       "      <td>...</td>\n",
       "    </tr>\n",
       "    <tr>\n",
       "      <th>2022-05-09</th>\n",
       "      <td>-0.032037</td>\n",
       "      <td>1.026376e-03</td>\n",
       "      <td>0.3475</td>\n",
       "    </tr>\n",
       "    <tr>\n",
       "      <th>2022-05-10</th>\n",
       "      <td>0.002458</td>\n",
       "      <td>6.041260e-06</td>\n",
       "      <td>0.3299</td>\n",
       "    </tr>\n",
       "    <tr>\n",
       "      <th>2022-05-11</th>\n",
       "      <td>-0.016463</td>\n",
       "      <td>2.710372e-04</td>\n",
       "      <td>0.3256</td>\n",
       "    </tr>\n",
       "    <tr>\n",
       "      <th>2022-05-12</th>\n",
       "      <td>-0.001296</td>\n",
       "      <td>1.679524e-06</td>\n",
       "      <td>0.3177</td>\n",
       "    </tr>\n",
       "    <tr>\n",
       "      <th>2022-05-13</th>\n",
       "      <td>0.023870</td>\n",
       "      <td>5.697624e-04</td>\n",
       "      <td>0.2887</td>\n",
       "    </tr>\n",
       "  </tbody>\n",
       "</table>\n",
       "<p>6890 rows × 3 columns</p>\n",
       "</div>"
      ],
      "text/plain": [
       "                  r1            r2     vix\n",
       "1995-01-04  0.003485  1.214534e-05  0.1353\n",
       "1995-01-05 -0.000803  6.449659e-07  0.1350\n",
       "1995-01-06  0.000739  5.454954e-07  0.1313\n",
       "1995-01-09  0.000326  1.060104e-07  0.1333\n",
       "1995-01-10  0.001845  3.402222e-06  0.1252\n",
       "...              ...           ...     ...\n",
       "2022-05-09 -0.032037  1.026376e-03  0.3475\n",
       "2022-05-10  0.002458  6.041260e-06  0.3299\n",
       "2022-05-11 -0.016463  2.710372e-04  0.3256\n",
       "2022-05-12 -0.001296  1.679524e-06  0.3177\n",
       "2022-05-13  0.023870  5.697624e-04  0.2887\n",
       "\n",
       "[6890 rows x 3 columns]"
      ]
     },
     "execution_count": 28,
     "metadata": {},
     "output_type": "execute_result"
    }
   ],
   "source": [
    "data = create_df_from_yf(spx_data, vix_data, train_start_date, test_end_date)\n",
    "data"
   ]
  },
  {
   "cell_type": "code",
   "execution_count": 29,
   "metadata": {},
   "outputs": [
    {
     "data": {
      "text/plain": [
       "5891"
      ]
     },
     "execution_count": 29,
     "metadata": {},
     "output_type": "execute_result"
    }
   ],
   "source": [
    "preds = predict(*res.x, data, window)\n",
    "len(preds)"
   ]
  },
  {
   "cell_type": "code",
   "execution_count": 30,
   "metadata": {},
   "outputs": [
    {
     "data": {
      "text/html": [
       "<div>\n",
       "<style scoped>\n",
       "    .dataframe tbody tr th:only-of-type {\n",
       "        vertical-align: middle;\n",
       "    }\n",
       "\n",
       "    .dataframe tbody tr th {\n",
       "        vertical-align: top;\n",
       "    }\n",
       "\n",
       "    .dataframe thead th {\n",
       "        text-align: right;\n",
       "    }\n",
       "</style>\n",
       "<table border=\"1\" class=\"dataframe\">\n",
       "  <thead>\n",
       "    <tr style=\"text-align: right;\">\n",
       "      <th></th>\n",
       "      <th>r1</th>\n",
       "      <th>r2</th>\n",
       "      <th>vix</th>\n",
       "      <th>preds</th>\n",
       "    </tr>\n",
       "  </thead>\n",
       "  <tbody>\n",
       "    <tr>\n",
       "      <th>1998-12-16</th>\n",
       "      <td>-0.000765</td>\n",
       "      <td>5.858169e-07</td>\n",
       "      <td>0.2996</td>\n",
       "      <td>0.231127</td>\n",
       "    </tr>\n",
       "    <tr>\n",
       "      <th>1998-12-17</th>\n",
       "      <td>0.015526</td>\n",
       "      <td>2.410502e-04</td>\n",
       "      <td>0.2796</td>\n",
       "      <td>0.217617</td>\n",
       "    </tr>\n",
       "    <tr>\n",
       "      <th>1998-12-18</th>\n",
       "      <td>0.006822</td>\n",
       "      <td>4.654229e-05</td>\n",
       "      <td>0.2504</td>\n",
       "      <td>0.210858</td>\n",
       "    </tr>\n",
       "    <tr>\n",
       "      <th>1998-12-21</th>\n",
       "      <td>0.012466</td>\n",
       "      <td>1.554002e-04</td>\n",
       "      <td>0.2386</td>\n",
       "      <td>0.200173</td>\n",
       "    </tr>\n",
       "    <tr>\n",
       "      <th>1998-12-22</th>\n",
       "      <td>0.000607</td>\n",
       "      <td>3.683043e-07</td>\n",
       "      <td>0.2278</td>\n",
       "      <td>0.200126</td>\n",
       "    </tr>\n",
       "    <tr>\n",
       "      <th>...</th>\n",
       "      <td>...</td>\n",
       "      <td>...</td>\n",
       "      <td>...</td>\n",
       "      <td>...</td>\n",
       "    </tr>\n",
       "    <tr>\n",
       "      <th>2022-05-09</th>\n",
       "      <td>-0.032037</td>\n",
       "      <td>1.026376e-03</td>\n",
       "      <td>0.3475</td>\n",
       "      <td>0.344921</td>\n",
       "    </tr>\n",
       "    <tr>\n",
       "      <th>2022-05-10</th>\n",
       "      <td>0.002458</td>\n",
       "      <td>6.041260e-06</td>\n",
       "      <td>0.3299</td>\n",
       "      <td>0.333434</td>\n",
       "    </tr>\n",
       "    <tr>\n",
       "      <th>2022-05-11</th>\n",
       "      <td>-0.016463</td>\n",
       "      <td>2.710372e-04</td>\n",
       "      <td>0.3256</td>\n",
       "      <td>0.346636</td>\n",
       "    </tr>\n",
       "    <tr>\n",
       "      <th>2022-05-12</th>\n",
       "      <td>-0.001296</td>\n",
       "      <td>1.679524e-06</td>\n",
       "      <td>0.3177</td>\n",
       "      <td>0.338735</td>\n",
       "    </tr>\n",
       "    <tr>\n",
       "      <th>2022-05-13</th>\n",
       "      <td>0.023870</td>\n",
       "      <td>5.697624e-04</td>\n",
       "      <td>0.2887</td>\n",
       "      <td>0.314828</td>\n",
       "    </tr>\n",
       "  </tbody>\n",
       "</table>\n",
       "<p>5891 rows × 4 columns</p>\n",
       "</div>"
      ],
      "text/plain": [
       "                  r1            r2     vix     preds\n",
       "1998-12-16 -0.000765  5.858169e-07  0.2996  0.231127\n",
       "1998-12-17  0.015526  2.410502e-04  0.2796  0.217617\n",
       "1998-12-18  0.006822  4.654229e-05  0.2504  0.210858\n",
       "1998-12-21  0.012466  1.554002e-04  0.2386  0.200173\n",
       "1998-12-22  0.000607  3.683043e-07  0.2278  0.200126\n",
       "...              ...           ...     ...       ...\n",
       "2022-05-09 -0.032037  1.026376e-03  0.3475  0.344921\n",
       "2022-05-10  0.002458  6.041260e-06  0.3299  0.333434\n",
       "2022-05-11 -0.016463  2.710372e-04  0.3256  0.346636\n",
       "2022-05-12 -0.001296  1.679524e-06  0.3177  0.338735\n",
       "2022-05-13  0.023870  5.697624e-04  0.2887  0.314828\n",
       "\n",
       "[5891 rows x 4 columns]"
      ]
     },
     "execution_count": 30,
     "metadata": {},
     "output_type": "execute_result"
    }
   ],
   "source": [
    "df_preds = data[window-1:].copy()\n",
    "df_preds['preds'] = preds\n",
    "df_preds"
   ]
  },
  {
   "cell_type": "code",
   "execution_count": 31,
   "metadata": {},
   "outputs": [
    {
     "data": {
      "text/plain": [
       "<matplotlib.collections.LineCollection at 0x1529b7150>"
      ]
     },
     "execution_count": 31,
     "metadata": {},
     "output_type": "execute_result"
    },
    {
     "data": {
      "image/png": "[encoded data removed]",
      "text/plain": [
       "<Figure size 1500x1000 with 1 Axes>"
      ]
     },
     "metadata": {},
     "output_type": "display_data"
    }
   ],
   "source": [
    "df_preds[['vix', 'preds']].plot(figsize=(15, 10))\n",
    "plt.vlines(test_start_date, 0, 0.9, linestyles='dashed', colors='red')"
   ]
  }
 ],
 "metadata": {
  "kernelspec": {
   "display_name": "ibkr",
   "language": "python",
   "name": "python3"
  },
  "language_info": {
   "codemirror_mode": {
    "name": "ipython",
    "version": 3
   },
   "file_extension": ".py",
   "mimetype": "text/x-python",
   "name": "python",
   "nbconvert_exporter": "python",
   "pygments_lexer": "ipython3",
   "version": "3.11.4"
  },
  "orig_nbformat": 4
 },
 "nbformat": 4,
 "nbformat_minor": 2
}
